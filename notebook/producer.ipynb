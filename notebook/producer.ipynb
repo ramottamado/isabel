{
 "cells": [
  {
   "cell_type": "code",
   "execution_count": 1,
   "metadata": {},
   "outputs": [],
   "source": [
    "from kafka import KafkaProducer\n",
    "import json"
   ]
  },
  {
   "cell_type": "code",
   "execution_count": 2,
   "metadata": {},
   "outputs": [],
   "source": [
    "employee_batch: list[dict] = [\n",
    "    {\n",
    "        \"name\": \"Elvin\",\n",
    "        \"company\": \"DSI\",\n",
    "    },\n",
    "    {\n",
    "        \"name\": \"Yopie\",\n",
    "        \"company\": \"DSI\",\n",
    "    },\n",
    "    {\n",
    "        \"name\": \"Tamado\",\n",
    "        \"company\": \"DSI\",\n",
    "    },\n",
    "    {\n",
    "        \"name\": \"Novi\",\n",
    "        \"company\": \"Trees\",\n",
    "    },\n",
    "    {\n",
    "        \"name\": \"Michael\",\n",
    "        \"company\": \"Trees\",\n",
    "    },\n",
    "]"
   ]
  },
  {
   "cell_type": "code",
   "execution_count": 4,
   "metadata": {},
   "outputs": [],
   "source": [
    "employee_producer: KafkaProducer = KafkaProducer(\n",
    "    bootstrap_servers=[\"kafka.nadzieja.test:9092\"],\n",
    "    client_id=\"prod1\",\n",
    "    acks=1,\n",
    "    value_serializer=lambda m: json.dumps(m).encode(\"ascii\"),\n",
    ")\n",
    "\n",
    "for employee in employee_batch:\n",
    "    employee_producer.send(\n",
    "        topic=\"employee\",\n",
    "        value=employee,\n",
    "    )"
   ]
  }
 ],
 "metadata": {
  "kernelspec": {
   "display_name": "Python 3",
   "language": "python",
   "name": "python3"
  },
  "language_info": {
   "codemirror_mode": {
    "name": "ipython",
    "version": 3
   },
   "file_extension": ".py",
   "mimetype": "text/x-python",
   "name": "python",
   "nbconvert_exporter": "python",
   "pygments_lexer": "ipython3",
   "version": "3.10.9"
  },
  "orig_nbformat": 4
 },
 "nbformat": 4,
 "nbformat_minor": 2
}
