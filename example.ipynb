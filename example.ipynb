{
 "cells": [
  {
   "cell_type": "markdown",
   "metadata": {},
   "source": [
    "# Spark Structured Streaming with Kafka Integration"
   ]
  },
  {
   "cell_type": "markdown",
   "metadata": {},
   "source": [
    "## Additional Dependency"
   ]
  },
  {
   "cell_type": "markdown",
   "metadata": {},
   "source": [
    "Submit via shell:\n",
    "\n",
    "\n",
    "```shell\n",
    "spark-submit --packages org.apache.spark:spark-sql-kafka-0-10_2.12:3.4.0\n",
    "```"
   ]
  },
  {
   "cell_type": "markdown",
   "metadata": {},
   "source": [
    "## SparkSession"
   ]
  },
  {
   "cell_type": "code",
   "execution_count": null,
   "metadata": {},
   "outputs": [],
   "source": [
    "from pyspark.sql import SparkSession"
   ]
  },
  {
   "cell_type": "code",
   "execution_count": null,
   "metadata": {},
   "outputs": [],
   "source": [
    "spark = SparkSession.builder.appName(\n",
    "    \"Structured Streaming Kafka Integration\"\n",
    ").getOrCreate()\n"
   ]
  },
  {
   "cell_type": "markdown",
   "metadata": {},
   "source": [
    "## Reading JSON from Kafka"
   ]
  },
  {
   "cell_type": "code",
   "execution_count": null,
   "metadata": {},
   "outputs": [],
   "source": [
    "boom = (\n",
    "    spark.readStream.format(\"kafka\")\n",
    "    .option(\"kafka.bootstrap.servers\", \"kafka.nadzieja.test:9092\") # broker nodes\n",
    "    .option(\"subscribe\", \"dictionary\") # topic to subscribe\n",
    "    .load()\n",
    ")\n",
    "\n",
    "boom1 = boom.selectExpr(\"from_json(cast(value as string), 'nama STRING, alasan STRING') as message\")"
   ]
  },
  {
   "cell_type": "markdown",
   "metadata": {},
   "source": [
    "## Writing to Kafka"
   ]
  },
  {
   "cell_type": "code",
   "execution_count": null,
   "metadata": {},
   "outputs": [],
   "source": [
    "boom2 = boom1.select(\"message.nama\")\n",
    "\n",
    "boomWriter = (\n",
    "    boom2.filter(\"nama is not null\")\n",
    "    .selectExpr(\n",
    "        # to write data to Kafka, dataframe needs to have key column and value column\n",
    "        \"cast(null as string) as key\",\n",
    "        \"to_json(struct(nama)) as value\",\n",
    "    )\n",
    "    .writeStream.format(\"kafka\")\n",
    "    .option(\"topic\", \"people\")  # topic to write\n",
    "    .option(\"kafka.bootstrap.servers\", \"kafka.nadzieja.test:9092\")  # broker\n",
    ")\n",
    "\n",
    "boomWriter.option(\"checkpointLocation\", \"checkpoint\").start()\n"
   ]
  }
 ],
 "metadata": {
  "kernelspec": {
   "display_name": "spark",
   "language": "python",
   "name": "python3"
  },
  "language_info": {
   "codemirror_mode": {
    "name": "ipython",
    "version": 3
   },
   "file_extension": ".py",
   "mimetype": "text/x-python",
   "name": "python",
   "nbconvert_exporter": "python",
   "pygments_lexer": "ipython3",
   "version": "3.10.9"
  },
  "orig_nbformat": 4
 },
 "nbformat": 4,
 "nbformat_minor": 2
}
