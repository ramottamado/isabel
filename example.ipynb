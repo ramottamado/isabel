{
 "cells": [
  {
   "cell_type": "code",
   "execution_count": null,
   "metadata": {},
   "outputs": [],
   "source": [
    "from pyspark.sql import SparkSession"
   ]
  },
  {
   "cell_type": "code",
   "execution_count": null,
   "metadata": {},
   "outputs": [],
   "source": [
    "spark = SparkSession.builder.appName(\"haha\").getOrCreate()"
   ]
  },
  {
   "cell_type": "code",
   "execution_count": null,
   "metadata": {},
   "outputs": [],
   "source": [
    "boom = (\n",
    "    spark.readStream.format(\"kafka\")\n",
    "    .option(\"kafka.bootstrap.servers\", \"kafka.nadzieja.test:9092\")\n",
    "    .option(\"subscribe\", \"dictionary\")\n",
    "    .load()\n",
    ")"
   ]
  },
  {
   "cell_type": "code",
   "execution_count": null,
   "metadata": {},
   "outputs": [],
   "source": [
    "boom1 = boom.selectExpr(\"from_json(cast(value as string), 'nama STRING, alasan STRING') as message\")\n",
    "boom2 = boom1.select(\"message.nama\")"
   ]
  },
  {
   "cell_type": "code",
   "execution_count": null,
   "metadata": {},
   "outputs": [],
   "source": [
    "boomWriter = (\n",
    "    boom2.filter(\"nama is not null\")\n",
    "    .selectExpr(\"cast(null as string) as key\", \"to_json(struct(nama)) as value\")\n",
    "    .writeStream.format(\"kafka\")\n",
    "    .option(\"topic\", \"people\")\n",
    "    .option(\"kafka.bootstrap.servers\", \"kafka.nadzieja.test:9092\")\n",
    ")\n",
    "\n",
    "boomWriter.option(\"checkpointLocation\", \"checkpoint\").start()"
   ]
  }
 ],
 "metadata": {
  "kernelspec": {
   "display_name": "spark",
   "language": "python",
   "name": "python3"
  },
  "language_info": {
   "codemirror_mode": {
    "name": "ipython",
    "version": 3
   },
   "file_extension": ".py",
   "mimetype": "text/x-python",
   "name": "python",
   "nbconvert_exporter": "python",
   "pygments_lexer": "ipython3",
   "version": "3.10.9"
  },
  "orig_nbformat": 4
 },
 "nbformat": 4,
 "nbformat_minor": 2
}
